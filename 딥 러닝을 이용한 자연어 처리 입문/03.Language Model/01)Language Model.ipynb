{
 "cells": [
  {
   "cell_type": "markdown",
   "metadata": {},
   "source": [
    "# 1) 언어 모델(Language Model)이란?"
   ]
  },
  {
   "cell_type": "markdown",
   "metadata": {},
   "source": [
    "언어 모델이란 언어라는 현상을 모델링하고자 단어 시퀀스에 확률을 할당하는 모델"
   ]
  },
  {
   "cell_type": "markdown",
   "metadata": {},
   "source": [
    "* 통계를 이용한 방법\n",
    "* 인공 신경망을 이용한 방법"
   ]
  },
  {
   "cell_type": "markdown",
   "metadata": {},
   "source": [
    "언어 모델링(Language Modeling) : 주어진 단어들로부터 아직 모르는 단어를 예측하는 작업"
   ]
  },
  {
   "cell_type": "markdown",
   "metadata": {},
   "source": [
    "### 2. 단어 시퀀스의 확률 할당"
   ]
  },
  {
   "cell_type": "markdown",
   "metadata": {},
   "source": [
    "* 기계 번역(Machine Translation) : p(나는 버스를 탔다) > p(나는 버스를 태운다)\n",
    "* 오타 교정(Spell Correction) : p(달려갔다) > p(잘려갔다)\n",
    "* 음성 인식(Speech Recognition) : p(나는 메롱을 먹는다) < p(나는 메론을 먹는다)"
   ]
  },
  {
   "cell_type": "markdown",
   "metadata": {},
   "source": [
    "### 3. 주어진 이전 단어들로부터 다음 단어 예측하기"
   ]
  },
  {
   "cell_type": "markdown",
   "metadata": {},
   "source": [
    "* w = 단어\n",
    "* W = 단어 시퀀스\n",
    "* p(W) = 단어 시퀀스에 대한 확률"
   ]
  },
  {
   "cell_type": "markdown",
   "metadata": {},
   "source": [
    "P(W)=P(w1,w2,w3,w4,w5,...,wn)"
   ]
  },
  {
   "cell_type": "markdown",
   "metadata": {},
   "source": [
    "### B. 다음 단어 등장 확률"
   ]
  },
  {
   "cell_type": "markdown",
   "metadata": {},
   "source": [
    "* 조건부 확률"
   ]
  },
  {
   "cell_type": "markdown",
   "metadata": {},
   "source": [
    "P(W)=P(w1,w2,w3,w4,w5,...wn)=∏i=1nP(wn|w1,...,wn−1)"
   ]
  },
  {
   "cell_type": "markdown",
   "metadata": {},
   "source": [
    "### 4. 언어 모델의 간단한 직관"
   ]
  },
  {
   "cell_type": "markdown",
   "metadata": {},
   "source": [
    "Text : '비행기를 타려고 공항에 갔는데 지각을 하는 바람에 비행기를 ___'"
   ]
  },
  {
   "cell_type": "markdown",
   "metadata": {},
   "source": [
    "위와 같은 문장이 주어졌을 때 비행기를 다음에 올 수 있는 단어를 예측하는 것을\\\n",
    "앞에 단어들을 확률적으로 분석하여 빈칸에 올 수 있는 가장 확률이 높은 단어를\\\n",
    "예측하는 것이 언어 모델이 하는 역할이다."
   ]
  }
 ],
 "metadata": {
  "kernelspec": {
   "display_name": "Python 3",
   "language": "python",
   "name": "python3"
  },
  "language_info": {
   "codemirror_mode": {
    "name": "ipython",
    "version": 3
   },
   "file_extension": ".py",
   "mimetype": "text/x-python",
   "name": "python",
   "nbconvert_exporter": "python",
   "pygments_lexer": "ipython3",
   "version": "3.8.3"
  }
 },
 "nbformat": 4,
 "nbformat_minor": 4
}
