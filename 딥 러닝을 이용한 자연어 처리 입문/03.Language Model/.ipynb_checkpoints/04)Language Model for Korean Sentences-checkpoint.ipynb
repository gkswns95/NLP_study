{
 "cells": [
  {
   "cell_type": "markdown",
   "metadata": {},
   "source": [
    "# 4) 한국어에서의 언어 모델(Language Model for Korean Sentences)"
   ]
  },
  {
   "cell_type": "markdown",
   "metadata": {},
   "source": [
    "이전챕터에서도 잠깐 배웠듯이 한국어는 영어에 비해 다음 단어를 예측하는데 여러가지 어려움이 존재한다. 아래의 이유들로 인해"
   ]
  },
  {
   "cell_type": "markdown",
   "metadata": {},
   "source": [
    "한국어 자연어 처리가 영어보다 훨씬 복잡하고 어려운 것을 확인할 수 있다."
   ]
  },
  {
   "cell_type": "markdown",
   "metadata": {},
   "source": [
    "### 1. 한국어는 어순이 중요하지 않다."
   ]
  },
  {
   "cell_type": "markdown",
   "metadata": {},
   "source": [
    "제목과 같이 한국어는 어순이 딱히 중요하지 않다. 영어에서는 어순에 따라 주어가 등장하면 동사가 등장하는 등 어순을 이용해서 "
   ]
  },
  {
   "cell_type": "markdown",
   "metadata": {},
   "source": [
    "다음 단어를 예측할 수 있는 반면, 아래의 예시처럼 한국어는 어순이 바뀌어도 문장이 의미하는 바가 달라지지 않기 때문에"
   ]
  },
  {
   "cell_type": "markdown",
   "metadata": {},
   "source": [
    "단어 예측에 어려움을 겪는다."
   ]
  },
  {
   "cell_type": "markdown",
   "metadata": {},
   "source": [
    "Ex)\n",
    "*  나는 운동을 합니다 체육관에서.\n",
    "* 나는 체육관에서 운동을 합니다.\n",
    "* 체육관에서 운동을 합니다.\n",
    "* 나는 운동을 체육관에서 합니다."
   ]
  },
  {
   "cell_type": "markdown",
   "metadata": {},
   "source": [
    "### 2. 한국어는 교착어이다."
   ]
  },
  {
   "cell_type": "markdown",
   "metadata": {},
   "source": [
    "두번째로는 한국어는 교착어라는 것이 문제인데, 영어에서 띄어쓰기를 기준으로 토큰화 작업을 했을때에 비해"
   ]
  },
  {
   "cell_type": "markdown",
   "metadata": {},
   "source": [
    "한국어는 조사가 존재하기 때문에 발생가능한 단어의 수가 훨씬 많아지기 때문에 단순히 띄어쓰기만으로 토큰화 작업을"
   ]
  },
  {
   "cell_type": "markdown",
   "metadata": {},
   "source": [
    "수행하는 것이 아니라 조사를 분리하는 것이 중요한 작업이 될 수 있다."
   ]
  },
  {
   "cell_type": "markdown",
   "metadata": {},
   "source": [
    "Ex) 단어 '그녀' 의 조사\n",
    "* 그녀의\n",
    "* 그녀가\n",
    "* 그녀께서\n",
    "* 그녀로"
   ]
  },
  {
   "cell_type": "markdown",
   "metadata": {},
   "source": [
    "### 3. 한국어는 띄어쓰기가 제대로 지켜지지 않는다."
   ]
  },
  {
   "cell_type": "markdown",
   "metadata": {},
   "source": [
    "영어에 비해 한국어는 띄어쓰기를 제대로 지켜주지 않아도 의미가 전달이 되기 때문에 영어에 비해 더욱 자연어 처리하기 까다롭다."
   ]
  }
 ],
 "metadata": {
  "kernelspec": {
   "display_name": "Python 3",
   "language": "python",
   "name": "python3"
  },
  "language_info": {
   "codemirror_mode": {
    "name": "ipython",
    "version": 3
   },
   "file_extension": ".py",
   "mimetype": "text/x-python",
   "name": "python",
   "nbconvert_exporter": "python",
   "pygments_lexer": "ipython3",
   "version": "3.8.3"
  }
 },
 "nbformat": 4,
 "nbformat_minor": 4
}
